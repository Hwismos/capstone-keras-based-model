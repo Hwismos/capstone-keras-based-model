{
  "nbformat": 4,
  "nbformat_minor": 0,
  "metadata": {
    "colab": {
      "provenance": [],
      "gpuType": "T4",
      "authorship_tag": "ABX9TyNf883QXY6iIHwFz6uaVdgm",
      "include_colab_link": true
    },
    "kernelspec": {
      "name": "python3",
      "display_name": "Python 3"
    },
    "language_info": {
      "name": "python"
    },
    "gpuClass": "standard"
  },
  "cells": [
    {
      "cell_type": "markdown",
      "metadata": {
        "id": "view-in-github",
        "colab_type": "text"
      },
      "source": [
        "<a href=\"https://colab.research.google.com/github/Hwismos/capstone-keras-based-model/blob/main/ncf/NeuMF.ipynb\" target=\"_parent\"><img src=\"https://colab.research.google.com/assets/colab-badge.svg\" alt=\"Open In Colab\"/></a>"
      ]
    },
    {
      "cell_type": "markdown",
      "source": [
        "# 환경 설정"
      ],
      "metadata": {
        "id": "W1mVBJxGe6C0"
      }
    },
    {
      "cell_type": "code",
      "execution_count": null,
      "metadata": {
        "id": "qSTEhdPEexp9"
      },
      "outputs": [],
      "source": [
        "from google.colab import drive\n",
        "drive.mount('/content/drive')"
      ]
    },
    {
      "cell_type": "code",
      "source": [
        "%cd '/content/drive/MyDrive/4학년/캡스톤/[공부] 인공지능 공부/[05.07] Keras-Collaborative Filtering'"
      ],
      "metadata": {
        "id": "O5Z2NjHJfapp"
      },
      "execution_count": null,
      "outputs": []
    },
    {
      "cell_type": "markdown",
      "source": [
        "# 협업 필터링 신경망 기반의 영화 추천 시스템\n",
        "- Keras 라이브러리를 이용해 딥러닝 모델 구축"
      ],
      "metadata": {
        "id": "_BUtjuVpfImI"
      }
    },
    {
      "cell_type": "markdown",
      "source": [
        "## 소개"
      ],
      "metadata": {
        "id": "gNikmli7fZ0I"
      }
    },
    {
      "cell_type": "code",
      "source": [
        "'''\n",
        "● MovieLens(ML) 데이터셋과 신경망 기반 협업 필터링을 이용해 사용자에게 영화를 추천해주는 모델을 구축한다.\n",
        "● 이 프로젝트의 목적은 사용자가 레이팅하지 않은 영화에 대한 레이팅 값을 예측하는 것이다.\n",
        "● 그 결과로, 높게 레이팅된 영화들을 유저에게 추천해준다. \n",
        "'''"
      ],
      "metadata": {
        "id": "DfEw-QYdfkSY"
      },
      "execution_count": null,
      "outputs": []
    },
    {
      "cell_type": "code",
      "source": [
        "!pip install zipfile"
      ],
      "metadata": {
        "id": "pMSzBGvEg8d4"
      },
      "execution_count": null,
      "outputs": []
    },
    {
      "cell_type": "code",
      "source": [
        "import pandas as pd\n",
        "import numpy as np\n",
        "from zipfile import ZipFile\n",
        "import tensorflow as tf\n",
        "from tensorflow import keras\n",
        "from tensorflow.keras import layers\n",
        "from pathlib import Path\n",
        "import matplotlib.pyplot as plt"
      ],
      "metadata": {
        "id": "dnXTN8lcgseC"
      },
      "execution_count": null,
      "outputs": []
    },
    {
      "cell_type": "markdown",
      "source": [
        "## 데이터셋 로딩과 전처리"
      ],
      "metadata": {
        "id": "gROLcWwugXdJ"
      }
    },
    {
      "cell_type": "code",
      "source": [
        "# 실제 데이터를 다운로드 받는다.\n",
        "# ratings.csf 파일을 이용한다. \n",
        "movielens_data_file_url = (\n",
        "    \"http://files.grouplens.org/datasets/movielens/ml-latest-small.zip\"\n",
        ")\n",
        "\n",
        "movielens_zipped_file = keras.utils.get_file(\n",
        "    \"ml-latest-small.zip\", movielens_data_file_url, extract=False\n",
        ")\n",
        "\n",
        "# 반환 타입은 다음과 같다. \n",
        "# <class 'pathlib.PosixPath'>\n",
        "keras_datasets_path = Path(movielens_zipped_file).parents[0]  \n",
        "movielens_dir = keras_datasets_path / \"ml-latest-small\"\n",
        "\n",
        "# 한 번만 실행된다.\n",
        "if not movielens_dir.exists():\n",
        "    with ZipFile(movielens_zipped_file, \"r\") as zip:\n",
        "        print(\"Extracting all the files now...\")\n",
        "        zip.extractall(path=keras_datasets_path)\n",
        "        print(\"Done!!!\")\n",
        "# 실행되지 않았다.\n",
        "\n",
        "ratings_file = movielens_dir / \"ratings.csv\"\n",
        "\n",
        "# DataFrame을 확인해보면 좋을 것 같다.\n",
        "df = pd.read_csv(ratings_file)  # DataFrame"
      ],
      "metadata": {
        "id": "mYOxggsYgkmK"
      },
      "execution_count": null,
      "outputs": []
    },
    {
      "cell_type": "code",
      "source": [
        "# 데이터프레임 객체를 확인한다.\n",
        "\n",
        "df.head(10)"
      ],
      "metadata": {
        "id": "_iTOj86LhuCX"
      },
      "execution_count": null,
      "outputs": []
    },
    {
      "cell_type": "code",
      "source": [
        "# 유저와 영화에 대한 정수 인덱스들을 인코딩하기 위한 전처리가 필요하다.\n",
        "\n",
        "user_ids = df[\"userId\"].unique().tolist()  # Series 객체의 unique value들을 list 포맷으로 반환한다.\n",
        "# 유저 → 인코딩된 유저\n",
        "user2user_encoded = {x: i for i, x in enumerate(user_ids)}\n",
        "# 인코딩된 유저 → 유저\n",
        "user_encoded2user = {i: x for i, x in enumerate(user_ids)}\n",
        "\n",
        "movie_ids = df[\"movieId\"].unique().tolist()\n",
        "movie2movie_encoded = {x: i for i, x in enumerate(movie_ids)}\n",
        "movie_encoded2movie = {i: x for i, x in enumerate(movie_ids)}\n",
        "\n",
        "# map 메소드의 인자 값에 따라 Series 객체를 매핑한다.\n",
        "    # 인자는 dictionary 형태이다. \n",
        "# 이 과정을 통해 새로운 column을 추가한다.\n",
        "df[\"user\"] = df[\"userId\"].map(user2user_encoded)\n",
        "df[\"movie\"] = df[\"movieId\"].map(movie2movie_encoded)\n",
        "\n",
        "num_users = len(user2user_encoded)\n",
        "num_movies = len(movie_encoded2movie)\n",
        "df[\"rating\"] = df[\"rating\"].values.astype(np.float32)\n",
        "\n",
        "# 레이팅의 최소, 최대값은 정규화에 이용된다.\n",
        "min_rating = min(df[\"rating\"])\n",
        "max_rating = max(df[\"rating\"])\n",
        "\n",
        "print(\n",
        "    \"Number of users: {}, Number of Movies: {}, Min rating: {}, Max rating: {}\".format(\n",
        "        num_users, num_movies, min_rating, max_rating\n",
        "    )\n",
        ")"
      ],
      "metadata": {
        "id": "Nui0vyqPjI_C"
      },
      "execution_count": null,
      "outputs": []
    },
    {
      "cell_type": "code",
      "source": [
        "# check column을 생성해서 모두 1로 설정한다. \n",
        "edge = {x: 1.0 for x in user_ids}\n",
        "df[\"edge\"] = df[\"userId\"].map(edge)\n",
        "# print(df[\"edge\"])\n",
        "df.head(10)"
      ],
      "metadata": {
        "id": "WYrzJVWddQSt"
      },
      "execution_count": null,
      "outputs": []
    },
    {
      "cell_type": "code",
      "source": [
        "# df로부터 추출한 데이터들의 포맷과 정보를 확인한다.\n",
        "\n",
        "# print(type(df[\"userId\"]))\n",
        "# print(type(user_ids))\n",
        "# print(user_ids)\n",
        "\n",
        "# user와 movie라는 column이 추가됐다.\n",
        "df.head(10)"
      ],
      "metadata": {
        "id": "idqH4PUviQNZ"
      },
      "execution_count": null,
      "outputs": []
    },
    {
      "cell_type": "markdown",
      "source": [
        "## 학습, 평가 데이터 준비"
      ],
      "metadata": {
        "id": "_XB7xbM-lR_I"
      }
    },
    {
      "cell_type": "code",
      "source": [
        "df = df.sample(frac=1, random_state=42)  # df를 랜덤하게 섞는다.\n",
        "x = df[[\"user\", \"movie\"]].values  # user와 movie 컬럼의 value들을 추출한다.\n",
        "\n",
        "# 학습의 편의를 위해 레이팅을 0과 1 사이 값으로 정규화한다.\n",
        "# -------------------------------------------------------------------------------------\n",
        "y = df[\"rating\"].apply(lambda x: (x - min_rating) / (max_rating - min_rating)).values\n",
        "# y = df[\"edge\"].to_numpy()  # 1.0으로 구성된 연결 관계를 label 데이터로 이용한다.\n",
        "# -------------------------------------------------------------------------------------\n",
        "# 화장품 데이터에 대해 rating이 1로 설정된다면,\n",
        "# 이때의 rating은 유저가 화장품을 조회했다고 판단할 수 있다.\n",
        "\n",
        "# 9:1의 비율로 학습과 평가 데이터를 분류한다.\n",
        "train_indices = int(0.9 * df.shape[0])\n",
        "\n",
        "x_train, x_val, y_train, y_val = (\n",
        "    x[:train_indices],\n",
        "    x[train_indices:],\n",
        "    y[:train_indices],\n",
        "    y[train_indices:],    \n",
        ")"
      ],
      "metadata": {
        "id": "1NPCeDZbl9JX"
      },
      "execution_count": null,
      "outputs": []
    },
    {
      "cell_type": "code",
      "source": [
        "df.head(10)  # 샘플링된 df를 확인한다."
      ],
      "metadata": {
        "id": "6c8_HvbWloyn"
      },
      "execution_count": null,
      "outputs": []
    },
    {
      "cell_type": "code",
      "source": [
        "print(y)  # 정규화된 rating 값을 출력한다."
      ],
      "metadata": {
        "id": "Rg48ZS9Gl5SA"
      },
      "execution_count": null,
      "outputs": []
    },
    {
      "cell_type": "code",
      "source": [
        "print(df[[\"user\", \"movie\"]])  # 복수 개의 컬럼을 추출할 때 이차원 배열을 이용한다."
      ],
      "metadata": {
        "id": "wmpb7rXok1ni"
      },
      "execution_count": null,
      "outputs": []
    },
    {
      "cell_type": "markdown",
      "source": [
        "## 모델 생성\n",
        "- 유저와 영화를 50차원의 벡터로 표현한다.\n",
        "- 모델은 유저와 영화 임베딩의 내적을 이용해 match score를 계산한다.\n",
        "- 이때 유저와 영화 각각의 바이어스를 더해서 계산한다.\n",
        "- match score는 0과 1 사이의 값으로 계산된다. "
      ],
      "metadata": {
        "id": "_W__4pE0mxli"
      }
    },
    {
      "cell_type": "code",
      "source": [
        "EMBEDDING_SIZE = 50\n",
        "\n",
        "# keras의 Model 클래스를 상속받는다.\n",
        "class RecommenderNet(keras.Model):\n",
        "    def __init__(self, num_users, num_movies, embedding_size, **kwargs):\n",
        "        super().__init__(**kwargs)\n",
        "        self.num_users = num_users\n",
        "        self.num_movies = num_movies\n",
        "        self.embedding_size = embedding_size\n",
        "        # 4개의 Embedding 레이어를 생성한다.\n",
        "        self.user_embedding = layers.Embedding(\n",
        "            num_users,\n",
        "            embedding_size,\n",
        "            embeddings_initializer = \"he_normal\",\n",
        "            embeddings_regularizer = keras.regularizers.l2(1e-6),\n",
        "        )\n",
        "        self.user_bias = layers.Embedding(num_users, 1)\n",
        "        self.movie_embedding = layers.Embedding(\n",
        "            num_movies,\n",
        "            embedding_size,\n",
        "            embeddings_initializer = \"he_normal\",\n",
        "            embeddings_regularizer = keras.regularizers.l2(1e-6),\n",
        "        )\n",
        "        self.movie_bias = layers.Embedding(num_movies, 1)\n",
        "    \n",
        "    # call 메소드가 호출되면, 모델을 호출해 새로운 인풋에 대해 텐서 형태의 아웃풋을 반환한다.\n",
        "    # call 메소드는 직접적으로 호출되지 않는다.\n",
        "        # Model 클래스를 상속 받았을 때 재정의돼야 하는 메소드이다.\n",
        "    def call(self, inputs):\n",
        "        # input의 0번째 column을 인자로 이용해, \n",
        "        # 유저 임베딩 레이어로부터 특정 유저의 벡터를 추출한다.\n",
        "        user_vector = self.user_embedding(inputs[:, 0])\n",
        "        user_bias = self.user_bias(inputs[:, 0])\n",
        "        movie_vector = self.movie_embedding(inputs[:, 1])\n",
        "        movie_bias = self.movie_bias(inputs[:, 1])\n",
        "        dot_user_movie = tf.tensordot(user_vector, movie_vector, 2)\n",
        "        # 바이어스를 포함한 모든 요소들을 더한다.\n",
        "        x = dot_user_movie + user_bias + movie_bias\n",
        "        # 시그모이드 함수가 레이팅을 0과 1로 스케일링 한다.\n",
        "        return tf.nn.sigmoid(x)\n",
        "\n",
        "model = RecommenderNet(num_users, num_movies, EMBEDDING_SIZE)\n",
        "model.compile(\n",
        "    loss = tf.keras.losses.BinaryCrossentropy(),\n",
        "    optimizer = keras.optimizers.Adam(learning_rate = 0.001),\n",
        "    metrics=['accuracy'],\n",
        ")\n",
        "\n",
        "# model.summary  # <bound method Model.summary of <__main__.RecommenderNet object at 0x7f41b0cdf910>>"
      ],
      "metadata": {
        "id": "2HcSCJDro1DE"
      },
      "execution_count": null,
      "outputs": []
    },
    {
      "cell_type": "markdown",
      "source": [
        "## 분류한 데이터를 이용한 모델 학습"
      ],
      "metadata": {
        "id": "eD-3ACmErapc"
      }
    },
    {
      "cell_type": "code",
      "source": [
        "# fit 메소드는 input_data(x)와 target_data(y)를 이용해 모델을 훈련시킨다.\n",
        "# batch_size는 그레디언트가 업데이트될 샘플의 수다.\n",
        "# validation_data는 에포크마다 모델의 loss를 평가하기 위한 데이터다.\n",
        "    # 모델은 이 데이터를 훈련에 이용하지 않는다.\n",
        "\n",
        "history = model.fit(\n",
        "    x = x_train,\n",
        "    y = y_train,\n",
        "    batch_size = 64,\n",
        "    epochs = 5,\n",
        "    verbose = 1,\n",
        "    validation_data = (x_val, y_val),\n",
        ")"
      ],
      "metadata": {
        "id": "yPVY8qyGrddt"
      },
      "execution_count": null,
      "outputs": []
    },
    {
      "cell_type": "code",
      "source": [
        "print(type(history))"
      ],
      "metadata": {
        "id": "UrlV758ZokeR"
      },
      "execution_count": null,
      "outputs": []
    },
    {
      "cell_type": "code",
      "source": [
        "# 훈련과 평가에 대한 손실값을 표시한다.\n",
        "\n",
        "plt.plot(history.history[\"loss\"])\n",
        "plt.plot(history.history[\"val_loss\"])\n",
        "plt.title(\"model loss\")\n",
        "plt.ylabel(\"loss\")\n",
        "plt.xlabel(\"epoch\")\n",
        "plt.legend([\"train\", \"test\"], loc=\"upper left\")\n",
        "plt.show()"
      ],
      "metadata": {
        "id": "sF-tF8TgztCc"
      },
      "execution_count": null,
      "outputs": []
    },
    {
      "cell_type": "code",
      "source": [
        "# 정확도를 플롯팅한다.\n",
        "\n",
        "plt.plot(history.history['accuracy'])\n",
        "plt.plot(history.history['val_accuracy'])\n",
        "plt.title('model accuracy')\n",
        "plt.ylabel('accuracy')\n",
        "plt.xlabel('epoch')\n",
        "plt.legend(['train', 'val'], loc='upper left')\n",
        "plt.show()"
      ],
      "metadata": {
        "id": "QuURTyYtn5Er"
      },
      "execution_count": null,
      "outputs": []
    },
    {
      "cell_type": "markdown",
      "source": [
        "## 특정 유저에 대한 Top-10 영화 추천"
      ],
      "metadata": {
        "id": "0QTKQWxq0ReP"
      }
    },
    {
      "cell_type": "code",
      "source": [
        "movie_df = pd.read_csv(movielens_dir / \"movies.csv\")\n",
        "\n",
        "# 특정 유저와 유저의 top 추천 영화를 얻는다.\n",
        "user_id = df.userId.sample(1).iloc[0]\n",
        "movies_watched_by_user = df[df.userId == user_id]\n",
        "movies_not_watched = movie_df[\n",
        "    ~movie_df[\"movieId\"].isin(movies_watched_by_user.movieId.values)\n",
        "][\"movieId\"]\n",
        "movies_not_watched = list(\n",
        "    set(movies_not_watched).intersection(set(movie2movie_encoded.keys()))\n",
        ")\n",
        "movies_not_watched = [[movie2movie_encoded.get(x)] for x in movies_not_watched]\n",
        "user_encoder = user2user_encoded.get(user_id)\n",
        "user_movie_array = np.hstack(\n",
        "    ([[user_encoder]] * len(movies_not_watched), movies_not_watched)\n",
        ")\n",
        "ratings = model.predict(user_movie_array).flatten()\n",
        "\n",
        "print(f\"\\n{ratings}\\n\")\n",
        "\n",
        "top_ratings_indices = ratings.argsort()[-10:][::-1]\n",
        "recommended_movie_ids = [\n",
        "    movie_encoded2movie.get(movies_not_watched[x][0]) for x in top_ratings_indices\n",
        "]\n",
        "\n",
        "print(\"Showing recomendations for user: {}\".format(user_id))\n",
        "print(\"====\" * 9)\n",
        "print(\"Movies with high ratings from user\")\n",
        "print(\"----\" * 8)\n",
        "# 유저가 본 영화 중 가장 높은 레이팅 값을 가졌던 5개의 영화를 출력한다. \n",
        "top_movies_user = (\n",
        "    movies_watched_by_user.sort_values(by=\"rating\", ascending=False)\n",
        "    .head(5)\n",
        "    .movieId.values\n",
        ")\n",
        "movie_df_rows = movie_df[movie_df[\"movieId\"].isin(top_movies_user)]\n",
        "for row in movie_df_rows.itertuples():\n",
        "    print(row.title, \": \", row.genres)\n",
        "\n",
        "print(\"----\" * 8)\n",
        "print(\"Top 10 movie recommendations\")\n",
        "print(\"----\" * 8)\n",
        "# 유저가 보지 않은 영화들에 대해서도 예측을 통해 추천을 할 수 있다. \n",
        "recommended_movies = movie_df[movie_df[\"movieId\"].isin(recommended_movie_ids)]\n",
        "for row in recommended_movies.itertuples():\n",
        "    print(row.title, \": \", row.genres)"
      ],
      "metadata": {
        "id": "QDw5EtBS0ZZW"
      },
      "execution_count": null,
      "outputs": []
    },
    {
      "cell_type": "markdown",
      "source": [
        "## 모델 저장 및 로드"
      ],
      "metadata": {
        "id": "TOPSK_F6SPws"
      }
    },
    {
      "cell_type": "code",
      "source": [
        "tf.keras.saving.save_model(\n",
        "    model, \"./my_model\", overwrite=True, save_format=\"tf\"\n",
        ")\n",
        "\n",
        "# H5 파일은 사용자 정의 레이어를 저장 파일에 포함하지 않는다.\n",
        "# H5 포맷은 객체의 설정 값들을 이용해 모델 아키텍처를 저장한다.\n",
        "# 반면, SavedModel 포맷은 실행 그래프를 저장한다.\n",
        "    # 따라서 사용자 정의 객체(서브 클래싱)는 SavedModel 포맷으로만 저장할 수 있다.\n",
        "\n",
        "# tf.keras.saving.save_model(\n",
        "#     model, \"./my_model2\", overwrite=True, save_format=\"h5\"\n",
        "# )"
      ],
      "metadata": {
        "id": "UxOL1-EbSRjD"
      },
      "execution_count": null,
      "outputs": []
    },
    {
      "cell_type": "code",
      "source": [
        "# SavedModel 포맷으로 저장한 파일을 로드해 모델을 불러온다.\n",
        "# 폴더를 모두 로드하지 않고 .pb 파일만을 로드할 수는 없다.\n",
        "    # 파일 시그니처를 찾을 수 없다는 에러가 발생한다. \n",
        "\n",
        "loaded_model = tf.keras.models.load_model(\"./my_model\")\n",
        "reloaded_ratings = loaded_model.predict(user_movie_array).flatten()\n",
        "\n",
        "print(f\"\\n{reloaded_ratings}\\n\")"
      ],
      "metadata": {
        "id": "eaY0pAxVUL5I"
      },
      "execution_count": null,
      "outputs": []
    },
    {
      "cell_type": "code",
      "source": [
        "# 모델 인풋 텐서를 복기한다.\n",
        "print(model.inputs)"
      ],
      "metadata": {
        "id": "tLzrAXjhTtzH"
      },
      "execution_count": null,
      "outputs": []
    },
    {
      "cell_type": "markdown",
      "source": [
        "# Keras GCN\n",
        "- keras_gcn 라이브러리를 확인한다."
      ],
      "metadata": {
        "id": "bePOhiOUcczy"
      }
    },
    {
      "cell_type": "code",
      "source": [
        "!pip install keras-gcn"
      ],
      "metadata": {
        "id": "0YxRwx26cf2N"
      },
      "execution_count": null,
      "outputs": []
    },
    {
      "cell_type": "code",
      "source": [
        "from tensorflow import keras\n",
        "from keras_gcn import GraphConv\n",
        "\n",
        "\n",
        "DATA_DIM = 3\n",
        "\n",
        "data_layer = keras.layers.Input(shape=(None, DATA_DIM))\n",
        "edge_layer = keras.layers.Input(shape=(None, None))\n",
        "conv_layer = GraphConv(\n",
        "    units=32,\n",
        "    step_num=1,\n",
        ")([data_layer, edge_layer])"
      ],
      "metadata": {
        "id": "Pue6Izl2dSGG"
      },
      "execution_count": null,
      "outputs": []
    }
  ]
}