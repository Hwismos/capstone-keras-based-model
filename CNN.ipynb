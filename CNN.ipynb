{
  "nbformat": 4,
  "nbformat_minor": 0,
  "metadata": {
    "colab": {
      "provenance": [],
      "collapsed_sections": [
        "63viL57SjtBA",
        "AXuG3Z75jxt3",
        "kP8wjoaGmJgc"
      ],
      "authorship_tag": "ABX9TyNv7kMrYoSdVANXTLgk8XOo",
      "include_colab_link": true
    },
    "kernelspec": {
      "name": "python3",
      "display_name": "Python 3"
    },
    "language_info": {
      "name": "python"
    }
  },
  "cells": [
    {
      "cell_type": "markdown",
      "metadata": {
        "id": "view-in-github",
        "colab_type": "text"
      },
      "source": [
        "<a href=\"https://colab.research.google.com/github/Hwismos/capstone-keras-based-model/blob/main/CNN.ipynb\" target=\"_parent\"><img src=\"https://colab.research.google.com/assets/colab-badge.svg\" alt=\"Open In Colab\"/></a>"
      ]
    },
    {
      "cell_type": "markdown",
      "source": [
        "# 환경 설정"
      ],
      "metadata": {
        "id": "D9u5riWih2rH"
      }
    },
    {
      "cell_type": "code",
      "execution_count": null,
      "metadata": {
        "id": "TV_-dD4khMSe",
        "colab": {
          "base_uri": "https://localhost:8080/"
        },
        "outputId": "4b100875-2be2-4937-94d0-f80d31ea86b0"
      },
      "outputs": [
        {
          "output_type": "stream",
          "name": "stdout",
          "text": [
            "Drive already mounted at /content/drive; to attempt to forcibly remount, call drive.mount(\"/content/drive\", force_remount=True).\n"
          ]
        }
      ],
      "source": [
        "from google.colab import drive\n",
        "drive.mount('/content/drive')"
      ]
    },
    {
      "cell_type": "markdown",
      "source": [
        "# [05.05] CNN 기반의 모델 구성 방법"
      ],
      "metadata": {
        "id": "I8Eg0t24h8Bv"
      }
    },
    {
      "cell_type": "code",
      "source": [
        "from tensorflow.keras.layers import Dense, Flatten, Activation, Input\n",
        "from tensorflow.keras.models import Sequential, Model\n",
        "from tensorflow.keras.utils import plot_model"
      ],
      "metadata": {
        "id": "YyCmBpkwiZqM"
      },
      "execution_count": null,
      "outputs": []
    },
    {
      "cell_type": "markdown",
      "source": [
        "## 1. Sequential()"
      ],
      "metadata": {
        "id": "63viL57SjtBA"
      }
    },
    {
      "cell_type": "code",
      "source": [
        "# 모델이 순차적인 구조를 가질 때 사용 가능한 방법이다.\n",
        "# 아래와 같은 방법 외에도 리스트를 이용해서 한 번에 구성할 수 있다. \n",
        "\n",
        "model = Sequential()\n",
        "model.add(Input(shape=(28, 28)))\n",
        "model.add(Flatten(input_shape = [28, 28]))\n",
        "\n",
        "# 노드 수가 300개인 층인 층과 100개인 층을 통과한다.\n",
        "model.add(Dense(300, activation = 'relu'))\n",
        "model.add(Dense(100, activation = 'relu'))\n",
        "\n",
        "# 최종적으로 10개의 값을 출력한다.\n",
        "model.add(Dense(10, activation = 'softmax'))\n",
        "\n",
        "# Total params는 모델에서 학습시키는 가중치의 개수이다. \n",
        "model.summary()"
      ],
      "metadata": {
        "colab": {
          "base_uri": "https://localhost:8080/"
        },
        "id": "xJloyz21iEwE",
        "outputId": "816246ae-8f72-4108-d75e-b79bd6393d3f"
      },
      "execution_count": null,
      "outputs": [
        {
          "output_type": "stream",
          "name": "stdout",
          "text": [
            "Model: \"sequential\"\n",
            "_________________________________________________________________\n",
            " Layer (type)                Output Shape              Param #   \n",
            "=================================================================\n",
            " flatten (Flatten)           (None, 784)               0         \n",
            "                                                                 \n",
            " dense (Dense)               (None, 300)               235500    \n",
            "                                                                 \n",
            " dense_1 (Dense)             (None, 100)               30100     \n",
            "                                                                 \n",
            " dense_2 (Dense)             (None, 10)                1010      \n",
            "                                                                 \n",
            "=================================================================\n",
            "Total params: 266,610\n",
            "Trainable params: 266,610\n",
            "Non-trainable params: 0\n",
            "_________________________________________________________________\n"
          ]
        }
      ]
    },
    {
      "cell_type": "code",
      "source": [
        "# plot_model은 모델의 구조를 이미지로 확인해주는 함수이다.\n",
        "plot_model(model)"
      ],
      "metadata": {
        "colab": {
          "base_uri": "https://localhost:8080/",
          "height": 466
        },
        "id": "iTr3vETFjYPZ",
        "outputId": "936ab6ff-a40f-42c4-970b-ba865baad88d"
      },
      "execution_count": null,
      "outputs": [
        {
          "output_type": "execute_result",
          "data": {
            "image/png": "[encoded data removed]",
            "text/plain": [
              "<IPython.core.display.Image object>"
            ]
          },
          "metadata": {},
          "execution_count": 7
        }
      ]
    },
    {
      "cell_type": "markdown",
      "source": [
        "## 함수형 API"
      ],
      "metadata": {
        "id": "AXuG3Z75jxt3"
      }
    },
    {
      "cell_type": "code",
      "source": [
        "# 모델을 복잡하고 유연하게 구성할 수 있어 권장되는 방법이다.\n",
        "# 다중 입출력을 다룰 수 있다.\n",
        "# 아래와 같이 함수형 API를 이용해 앞선 Sequential 모델과 동일한 모델을 구성했다.\n",
        "\n",
        "inputs = Input(shape = (28, 28, 1))\n",
        "x = Flatten(input_shape = (28, 28, 1))(inputs)\n",
        "x = Dense(300, activation = 'relu')(x)\n",
        "x = Dense(100, activation = 'relu')(x)\n",
        "x = Dense(10, activation = 'softmax')(x)\n",
        "\n",
        "model = Model(inputs = inputs, outputs = x)\n",
        "model.summary()\n",
        "plot_model(model)"
      ],
      "metadata": {
        "colab": {
          "base_uri": "https://localhost:8080/",
          "height": 816
        },
        "id": "Gz8OmKsCjzar",
        "outputId": "77ed3422-825e-439b-f29d-c705e25638bc"
      },
      "execution_count": null,
      "outputs": [
        {
          "output_type": "stream",
          "name": "stdout",
          "text": [
            "Model: \"model\"\n",
            "_________________________________________________________________\n",
            " Layer (type)                Output Shape              Param #   \n",
            "=================================================================\n",
            " input_3 (InputLayer)        [(None, 28, 28, 1)]       0         \n",
            "                                                                 \n",
            " flatten_2 (Flatten)         (None, 784)               0         \n",
            "                                                                 \n",
            " dense_3 (Dense)             (None, 300)               235500    \n",
            "                                                                 \n",
            " dense_4 (Dense)             (None, 100)               30100     \n",
            "                                                                 \n",
            " dense_5 (Dense)             (None, 10)                1010      \n",
            "                                                                 \n",
            "=================================================================\n",
            "Total params: 266,610\n",
            "Trainable params: 266,610\n",
            "Non-trainable params: 0\n",
            "_________________________________________________________________\n"
          ]
        },
        {
          "output_type": "execute_result",
          "data": {
            "image/png": "[encoded data removed]",
            "text/plain": [
              "<IPython.core.display.Image object>"
            ]
          },
          "metadata": {},
          "execution_count": 9
        }
      ]
    },
    {
      "cell_type": "code",
      "source": [
        "# 함수형 API를 이용해 다중 입출력을 지원하는 모델을 구성한다.\n",
        "\n",
        "from tensorflow.keras.layers import Concatenate\n",
        "\n",
        "input_layer = Input(shape = (28, 28))\n",
        "hidden = Dense(300, activation = 'relu')(input_layer)\n",
        "hidden_1 = Dense(30, activation = 'relu')(hidden)\n",
        "concat = Concatenate()([input_layer, hidden_1])\n",
        "output = Dense(1)(concat)\n",
        "\n",
        "model = Model(inputs = [input_layer], outputs = [output])\n",
        "model.summary()\n",
        "plot_model(model)"
      ],
      "metadata": {
        "colab": {
          "base_uri": "https://localhost:8080/",
          "height": 854
        },
        "id": "6u060x6ElGzY",
        "outputId": "a9b7aff2-c48d-449d-eb4f-bd17b1434139"
      },
      "execution_count": null,
      "outputs": [
        {
          "output_type": "stream",
          "name": "stdout",
          "text": [
            "Model: \"model_1\"\n",
            "__________________________________________________________________________________________________\n",
            " Layer (type)                   Output Shape         Param #     Connected to                     \n",
            "==================================================================================================\n",
            " input_4 (InputLayer)           [(None, 28, 28)]     0           []                               \n",
            "                                                                                                  \n",
            " dense_6 (Dense)                (None, 28, 300)      8700        ['input_4[0][0]']                \n",
            "                                                                                                  \n",
            " dense_7 (Dense)                (None, 28, 30)       9030        ['dense_6[0][0]']                \n",
            "                                                                                                  \n",
            " concatenate (Concatenate)      (None, 28, 58)       0           ['input_4[0][0]',                \n",
            "                                                                  'dense_7[0][0]']                \n",
            "                                                                                                  \n",
            " dense_8 (Dense)                (None, 28, 1)        59          ['concatenate[0][0]']            \n",
            "                                                                                                  \n",
            "==================================================================================================\n",
            "Total params: 17,789\n",
            "Trainable params: 17,789\n",
            "Non-trainable params: 0\n",
            "__________________________________________________________________________________________________\n"
          ]
        },
        {
          "output_type": "execute_result",
          "data": {
            "image/png": "[encoded data removed]",
            "text/plain": [
              "<IPython.core.display.Image object>"
            ]
          },
          "metadata": {},
          "execution_count": 10
        }
      ]
    },
    {
      "cell_type": "markdown",
      "source": [
        "## 3. 서브 클래싱"
      ],
      "metadata": {
        "id": "kP8wjoaGmJgc"
      }
    },
    {
      "cell_type": "code",
      "source": [
        "# 커스터마이징에 최적화된 방법이다.\n",
        "\n",
        "class myModel(Model):\n",
        "    def __init__(self, unit = 30, activation = 'relu', **kwargs):\n",
        "        super(myModel, self).__init__(**kwargs)\n",
        "        self.dense_layer1 = Dense(300, activation = activation)\n",
        "        self.dense_layer2 = Dense(100, activation = activation)\n",
        "        self.dense_layer3 = Dense(unit, activation = activation)\n",
        "        self.output_layer = Dense(10, activation = 'softmax')\n",
        "    \n",
        "    def call(self, inputs):\n",
        "        x = self.dense_layer1(inputs)\n",
        "        x = self.dense_layer2(x)\n",
        "        x = self.dense_layer3(x)\n",
        "        x = self.output_layer(x)\n",
        "        return x"
      ],
      "metadata": {
        "id": "1ifoLBSzmMpG"
      },
      "execution_count": null,
      "outputs": []
    },
    {
      "cell_type": "code",
      "source": [
        "inputs = Input(shape = (28, 28, 1))\n",
        "model = myModel()\n",
        "x = model.call(inputs)\n",
        "# print(x)"
      ],
      "metadata": {
        "id": "YW85J9wzna4c"
      },
      "execution_count": null,
      "outputs": []
    },
    {
      "cell_type": "markdown",
      "source": [
        "# [05.05] TensorFlow 모델 저장과 복원"
      ],
      "metadata": {
        "id": "1V9k6LJMskdv"
      }
    },
    {
      "cell_type": "markdown",
      "source": [
        "## 설정"
      ],
      "metadata": {
        "id": "qAyhUmluspPE"
      }
    },
    {
      "cell_type": "code",
      "source": [
        "# 모델을 HDF5 포맷으로 저장하기 우히ㅐ 필요한 라이브러리를 설치한다.\n",
        "\n",
        "!pip install pyyaml h5py"
      ],
      "metadata": {
        "colab": {
          "base_uri": "https://localhost:8080/"
        },
        "id": "9qM_VmgptsbF",
        "outputId": "51d63a27-d4e1-4af2-c677-a046b593114c"
      },
      "execution_count": null,
      "outputs": [
        {
          "output_type": "stream",
          "name": "stdout",
          "text": [
            "Looking in indexes: https://pypi.org/simple, https://us-python.pkg.dev/colab-wheels/public/simple/\n",
            "Requirement already satisfied: pyyaml in /usr/local/lib/python3.10/dist-packages (6.0)\n",
            "Requirement already satisfied: h5py in /usr/local/lib/python3.10/dist-packages (3.8.0)\n",
            "Requirement already satisfied: numpy>=1.14.5 in /usr/local/lib/python3.10/dist-packages (from h5py) (1.22.4)\n"
          ]
        }
      ]
    },
    {
      "cell_type": "code",
      "source": [
        "# 주요 라이브러리를 임포트 한다.\n",
        "\n",
        "import os\n",
        "import tensorflow as tf\n",
        "from tensorflow import keras\n",
        "print(tf.version.VERSION)"
      ],
      "metadata": {
        "colab": {
          "base_uri": "https://localhost:8080/"
        },
        "id": "gerkf8Rst0To",
        "outputId": "0d299e87-b008-44ba-c397-1f456789e282"
      },
      "execution_count": null,
      "outputs": [
        {
          "output_type": "stream",
          "name": "stdout",
          "text": [
            "2.12.0\n"
          ]
        }
      ]
    },
    {
      "cell_type": "code",
      "source": [
        "# MNIST 데이터셋으로 모델을 훈려하여 가중치를 저장하는 예제를 만든다.\n",
        "\n",
        "(train_images, train_labels), (test_images, test_labels) = tf.keras.datasets.mnist.load_data()\n",
        "\n",
        "# 모델 학습 속도를 빠르게 하기 위해 샘플 중 1000개만 이용한다.\n",
        "train_labels = train_labels[:1000]\n",
        "test_labels = test_labels[:1000]\n",
        "\n",
        "# train, test images를 reshape 해주지 않아서 에러가 발생되었다. \n",
        "\n",
        "train_images = train_images[:1000].reshape(-1, 28 * 28) / 255.0\n",
        "test_images = test_images[:1000].reshape(-1, 28 * 28) / 255.0"
      ],
      "metadata": {
        "id": "FewMB48vt86r"
      },
      "execution_count": null,
      "outputs": []
    },
    {
      "cell_type": "code",
      "source": [
        "# 간단한 모델을 정의한다.\n",
        "\n",
        "def create_model():\n",
        "    model = tf.keras.Sequential([\n",
        "        keras.layers.Dense(512, activation = 'relu', input_shape = (784,)),\n",
        "        keras.layers.Dropout(0.2),\n",
        "        keras.layers.Dense(10)\n",
        "    ])\n",
        "\n",
        "    model.compile(optimizer = 'adam',\n",
        "                  loss = tf.keras.losses.SparseCategoricalCrossentropy(from_logits=True),\n",
        "                  metrics = [tf.keras.metrics.SparseCategoricalAccuracy()])\n",
        "    \n",
        "    return model\n",
        "\n",
        "# 모델 객체(인스턴스)를 생성한다.\n",
        "model = create_model()\n",
        "model.summary()"
      ],
      "metadata": {
        "colab": {
          "base_uri": "https://localhost:8080/"
        },
        "id": "zPZxm0sQuksb",
        "outputId": "46f9798b-b462-4251-e68a-e8be3cbd33cb"
      },
      "execution_count": null,
      "outputs": [
        {
          "output_type": "stream",
          "name": "stdout",
          "text": [
            "Model: \"sequential_8\"\n",
            "_________________________________________________________________\n",
            " Layer (type)                Output Shape              Param #   \n",
            "=================================================================\n",
            " dense_32 (Dense)            (None, 512)               401920    \n",
            "                                                                 \n",
            " dropout_7 (Dropout)         (None, 512)               0         \n",
            "                                                                 \n",
            " dense_33 (Dense)            (None, 10)                5130      \n",
            "                                                                 \n",
            "=================================================================\n",
            "Total params: 407,050\n",
            "Trainable params: 407,050\n",
            "Non-trainable params: 0\n",
            "_________________________________________________________________\n"
          ]
        }
      ]
    },
    {
      "cell_type": "code",
      "source": [
        "plot_model(model)"
      ],
      "metadata": {
        "colab": {
          "base_uri": "https://localhost:8080/",
          "height": 369
        },
        "id": "yDrTtFipw01W",
        "outputId": "01d56fe4-d25e-430b-869f-898a33f492cb"
      },
      "execution_count": null,
      "outputs": [
        {
          "output_type": "execute_result",
          "data": {
            "image/png": "[encoded data removed]",
            "text/plain": [
              "<IPython.core.display.Image object>"
            ]
          },
          "metadata": {},
          "execution_count": 22
        }
      ]
    },
    {
      "cell_type": "markdown",
      "source": [
        "## 훈련 중 체크포인트 저장하기"
      ],
      "metadata": {
        "id": "bAbl9Xk3vRpX"
      }
    },
    {
      "cell_type": "code",
      "source": [
        "# 훈련하는 동안 가중치를 저장하기 위한 ModelCheckpoint 콜백을 생성한다.\n",
        "\n",
        "checkpoint_path = '/content/drive/MyDrive/4학년/캡스톤/study/training_1/cp.ckpt'\n",
        "checkpoint_dir = os.path.dirname(checkpoint_path)   # 경로 중 디렉토리만 얻어 간다.\n",
        "\n",
        "# 모델의 가중치를 저장하는 콜백을 생성한다.\n",
        "cp_callback = tf.keras.callbacks.ModelCheckpoint(filepath = checkpoint_path,\n",
        "                                                 save_weights_only = True,\n",
        "                                                 verbose = 1)\n",
        "\n",
        "# 새 콜백을 이용해 모델을 학습시킨다.\n",
        "model.fit(train_images,\n",
        "          train_labels,\n",
        "          epochs = 10,\n",
        "          validation_data = (test_images, test_labels),\n",
        "          callbacks=[cp_callback])  # 콜백을 학습 과정에 전달한다."
      ],
      "metadata": {
        "colab": {
          "base_uri": "https://localhost:8080/"
        },
        "id": "Ki8Ilzx0vWLl",
        "outputId": "02610079-4272-47a4-ae11-d311308f3f20"
      },
      "execution_count": null,
      "outputs": [
        {
          "output_type": "stream",
          "name": "stdout",
          "text": [
            "Epoch 1/10\n",
            "29/32 [==========================>...] - ETA: 0s - loss: 1.2714 - sparse_categorical_accuracy: 0.6142\n",
            "Epoch 1: saving model to /content/drive/MyDrive/4학년/캡스톤/study/training_1/cp.ckpt\n",
            "32/32 [==============================] - 1s 18ms/step - loss: 1.2256 - sparse_categorical_accuracy: 0.6260 - val_loss: 0.7470 - val_sparse_categorical_accuracy: 0.7700\n",
            "Epoch 2/10\n",
            "32/32 [==============================] - ETA: 0s - loss: 0.4444 - sparse_categorical_accuracy: 0.8780\n",
            "Epoch 2: saving model to /content/drive/MyDrive/4학년/캡스톤/study/training_1/cp.ckpt\n",
            "32/32 [==============================] - 0s 15ms/step - loss: 0.4444 - sparse_categorical_accuracy: 0.8780 - val_loss: 0.5488 - val_sparse_categorical_accuracy: 0.8170\n",
            "Epoch 3/10\n",
            "31/32 [============================>.] - ETA: 0s - loss: 0.2955 - sparse_categorical_accuracy: 0.9254\n",
            "Epoch 3: saving model to /content/drive/MyDrive/4학년/캡스톤/study/training_1/cp.ckpt\n",
            "32/32 [==============================] - 0s 15ms/step - loss: 0.2935 - sparse_categorical_accuracy: 0.9260 - val_loss: 0.4739 - val_sparse_categorical_accuracy: 0.8550\n",
            "Epoch 4/10\n",
            "32/32 [==============================] - ETA: 0s - loss: 0.2273 - sparse_categorical_accuracy: 0.9470\n",
            "Epoch 4: saving model to /content/drive/MyDrive/4학년/캡스톤/study/training_1/cp.ckpt\n",
            "32/32 [==============================] - 0s 15ms/step - loss: 0.2273 - sparse_categorical_accuracy: 0.9470 - val_loss: 0.4548 - val_sparse_categorical_accuracy: 0.8540\n",
            "Epoch 5/10\n",
            "31/32 [============================>.] - ETA: 0s - loss: 0.1542 - sparse_categorical_accuracy: 0.9657\n",
            "Epoch 5: saving model to /content/drive/MyDrive/4학년/캡스톤/study/training_1/cp.ckpt\n",
            "32/32 [==============================] - 0s 15ms/step - loss: 0.1533 - sparse_categorical_accuracy: 0.9660 - val_loss: 0.4321 - val_sparse_categorical_accuracy: 0.8540\n",
            "Epoch 6/10\n",
            "32/32 [==============================] - ETA: 0s - loss: 0.1153 - sparse_categorical_accuracy: 0.9750\n",
            "Epoch 6: saving model to /content/drive/MyDrive/4학년/캡스톤/study/training_1/cp.ckpt\n",
            "32/32 [==============================] - 0s 12ms/step - loss: 0.1153 - sparse_categorical_accuracy: 0.9750 - val_loss: 0.4331 - val_sparse_categorical_accuracy: 0.8580\n",
            "Epoch 7/10\n",
            "32/32 [==============================] - ETA: 0s - loss: 0.0918 - sparse_categorical_accuracy: 0.9830\n",
            "Epoch 7: saving model to /content/drive/MyDrive/4학년/캡스톤/study/training_1/cp.ckpt\n",
            "32/32 [==============================] - 0s 13ms/step - loss: 0.0918 - sparse_categorical_accuracy: 0.9830 - val_loss: 0.4513 - val_sparse_categorical_accuracy: 0.8520\n",
            "Epoch 8/10\n",
            "30/32 [===========================>..] - ETA: 0s - loss: 0.0813 - sparse_categorical_accuracy: 0.9875\n",
            "Epoch 8: saving model to /content/drive/MyDrive/4학년/캡스톤/study/training_1/cp.ckpt\n",
            "32/32 [==============================] - 0s 15ms/step - loss: 0.0806 - sparse_categorical_accuracy: 0.9880 - val_loss: 0.4169 - val_sparse_categorical_accuracy: 0.8590\n",
            "Epoch 9/10\n",
            "32/32 [==============================] - ETA: 0s - loss: 0.0539 - sparse_categorical_accuracy: 0.9970\n",
            "Epoch 9: saving model to /content/drive/MyDrive/4학년/캡스톤/study/training_1/cp.ckpt\n",
            "32/32 [==============================] - 0s 15ms/step - loss: 0.0539 - sparse_categorical_accuracy: 0.9970 - val_loss: 0.4212 - val_sparse_categorical_accuracy: 0.8660\n",
            "Epoch 10/10\n",
            "25/32 [======================>.......] - ETA: 0s - loss: 0.0380 - sparse_categorical_accuracy: 1.0000\n",
            "Epoch 10: saving model to /content/drive/MyDrive/4학년/캡스톤/study/training_1/cp.ckpt\n",
            "32/32 [==============================] - 0s 13ms/step - loss: 0.0392 - sparse_categorical_accuracy: 1.0000 - val_loss: 0.4209 - val_sparse_categorical_accuracy: 0.8660\n"
          ]
        },
        {
          "output_type": "execute_result",
          "data": {
            "text/plain": [
              "<keras.callbacks.History at 0x7f2e8a120580>"
            ]
          },
          "metadata": {},
          "execution_count": 37
        }
      ]
    },
    {
      "cell_type": "code",
      "source": [
        "os.listdir(checkpoint_dir)"
      ],
      "metadata": {
        "colab": {
          "base_uri": "https://localhost:8080/"
        },
        "id": "k6p6e-QAzQF4",
        "outputId": "a2c21768-8294-4567-887c-6e3fcd4af43f"
      },
      "execution_count": null,
      "outputs": [
        {
          "output_type": "execute_result",
          "data": {
            "text/plain": [
              "['cp.ckpt.index', 'cp.ckpt.data-00000-of-00001', 'checkpoint']"
            ]
          },
          "metadata": {},
          "execution_count": 38
        }
      ]
    },
    {
      "cell_type": "code",
      "source": [
        "# 가중치가 공유됨을 확인하기 위해 모델 객체를 다시 생성하고 평가를 진행한다.\n",
        "# 이전에는 실수로 TopK 평가 메트릭을 이용해서 학습되지 않은 모델 객체의 정확도도 40%를 기록했다.\n",
        "# categorical_accuracy로 평가 메트릭을 변경한 뒤 12.80%의 정확도를 산출했다.\n",
        "\n",
        "model = create_model()\n",
        "loss, acc = model.evaluate(test_images, test_labels, verbose=2)\n",
        "print(\"학습되지 않은 모델의 정확도: {:5.2f}%\".format(100 * acc))"
      ],
      "metadata": {
        "colab": {
          "base_uri": "https://localhost:8080/"
        },
        "id": "CGFdK3Q-zUfj",
        "outputId": "cb7b7c60-7ee9-4d46-8e7f-7a26831436d9"
      },
      "execution_count": null,
      "outputs": [
        {
          "output_type": "stream",
          "name": "stdout",
          "text": [
            "32/32 - 1s - loss: 2.3001 - sparse_categorical_accuracy: 0.1280 - 562ms/epoch - 18ms/step\n",
            "학습되지 않은 모델의 정확도: 12.80%\n"
          ]
        }
      ]
    },
    {
      "cell_type": "code",
      "source": [
        "# 체크포인트에서 가중치를 로드한 뒤 평가를 재진행한다.\n",
        "# 86.60%를 산출했다.\n",
        "# ckpt는 체크포인트 포맷의 파일로 바이너리 포맷의 가중치만을 저장하고 있다.\n",
        "\n",
        "model.load_weights(checkpoint_path)\n",
        "loss, acc = model.evaluate(test_images, test_labels, verbose=2)\n",
        "print(\"저장된 가중치를 이용한 모델의 정확도: {:5.2f}%\".format(100 * acc))"
      ],
      "metadata": {
        "colab": {
          "base_uri": "https://localhost:8080/"
        },
        "id": "_TicEe_V0OT7",
        "outputId": "f0c0e1ef-62eb-4745-f5f6-40fe19406a99"
      },
      "execution_count": null,
      "outputs": [
        {
          "output_type": "stream",
          "name": "stdout",
          "text": [
            "32/32 - 0s - loss: 0.4209 - sparse_categorical_accuracy: 0.8660 - 79ms/epoch - 2ms/step\n",
            "저장된 가중치를 이용한 모델의 정확도: 86.60%\n"
          ]
        }
      ]
    },
    {
      "cell_type": "markdown",
      "source": [
        "## 전체 모델 저장하기"
      ],
      "metadata": {
        "id": "fTlZqtnV2GfL"
      }
    },
    {
      "cell_type": "code",
      "source": [
        "# tf.keras.Model.save 메소드를 이용해 모델의 아키텍처, 가중치 및 훈련 수성을 저장할 수 있다.\n",
        "# 이렇게 하면 Python 코드에 접근하지 않고도 모델을 사용할 수 있다.\n",
        "\n",
        "# 기본적으로 저장되는 모델의 파일 형식은 TF2.x 이지만 HDF5 형식으로도 가능하다. \n",
        "# 완전한 기능의 모델을 저장하면 TensorFlow.js에서 로드한 뒤 웹 브라우저에서 실행할 수 있다."
      ],
      "metadata": {
        "id": "ix5G4eZ62NsY"
      },
      "execution_count": null,
      "outputs": []
    },
    {
      "cell_type": "markdown",
      "source": [
        "### SavedModel 포맷"
      ],
      "metadata": {
        "id": "GB-W6SjK4Bhg"
      }
    },
    {
      "cell_type": "code",
      "source": [
        "# SavedModel 형식은 pb(protobuf binary)와 체크포인트 파일을 저장하는 디렉토리다.\n",
        "\n",
        "# 모델 객체를 생성한 뒤 학습시킨다.\n",
        "model = create_model()\n",
        "model.fit(train_images, train_labels, epochs=5)\n",
        "\n",
        "# 모델 자체를 SavedModel로 저장한다.\n",
        "!mkdir -p saved_model\n",
        "model.save('./saved_model/my_model')"
      ],
      "metadata": {
        "colab": {
          "base_uri": "https://localhost:8080/"
        },
        "id": "mCzVCJUW4E-F",
        "outputId": "44385572-2618-4a1c-8a25-4fcea72709cd"
      },
      "execution_count": null,
      "outputs": [
        {
          "output_type": "stream",
          "name": "stdout",
          "text": [
            "Epoch 1/5\n",
            "32/32 [==============================] - 1s 7ms/step - loss: 1.1376 - sparse_categorical_accuracy: 0.6680\n",
            "Epoch 2/5\n",
            "32/32 [==============================] - 0s 7ms/step - loss: 0.4100 - sparse_categorical_accuracy: 0.8830\n",
            "Epoch 3/5\n",
            "32/32 [==============================] - 0s 7ms/step - loss: 0.2959 - sparse_categorical_accuracy: 0.9180\n",
            "Epoch 4/5\n",
            "32/32 [==============================] - 0s 7ms/step - loss: 0.2062 - sparse_categorical_accuracy: 0.9580\n",
            "Epoch 5/5\n",
            "32/32 [==============================] - 0s 8ms/step - loss: 0.1510 - sparse_categorical_accuracy: 0.9700\n"
          ]
        },
        {
          "output_type": "stream",
          "name": "stderr",
          "text": [
            "WARNING:tensorflow:Detecting that an object or model or tf.train.Checkpoint is being deleted with unrestored values. See the following logs for the specific values in question. To silence these warnings, use `status.expect_partial()`. See https://www.tensorflow.org/api_docs/python/tf/train/Checkpoint#restorefor details about the status object returned by the restore function.\n",
            "WARNING:tensorflow:Value in checkpoint could not be found in the restored object: (root).optimizer._variables.1\n",
            "WARNING:tensorflow:Value in checkpoint could not be found in the restored object: (root).optimizer._variables.2\n",
            "WARNING:tensorflow:Value in checkpoint could not be found in the restored object: (root).optimizer._variables.3\n",
            "WARNING:tensorflow:Value in checkpoint could not be found in the restored object: (root).optimizer._variables.4\n",
            "WARNING:tensorflow:Value in checkpoint could not be found in the restored object: (root).optimizer._variables.5\n",
            "WARNING:tensorflow:Value in checkpoint could not be found in the restored object: (root).optimizer._variables.6\n",
            "WARNING:tensorflow:Value in checkpoint could not be found in the restored object: (root).optimizer._variables.7\n",
            "WARNING:tensorflow:Value in checkpoint could not be found in the restored object: (root).optimizer._variables.8\n",
            "WARNING:tensorflow:Detecting that an object or model or tf.train.Checkpoint is being deleted with unrestored values. See the following logs for the specific values in question. To silence these warnings, use `status.expect_partial()`. See https://www.tensorflow.org/api_docs/python/tf/train/Checkpoint#restorefor details about the status object returned by the restore function.\n",
            "WARNING:tensorflow:Value in checkpoint could not be found in the restored object: (root).optimizer._variables.1\n",
            "WARNING:tensorflow:Value in checkpoint could not be found in the restored object: (root).optimizer._variables.2\n",
            "WARNING:tensorflow:Value in checkpoint could not be found in the restored object: (root).optimizer._variables.3\n",
            "WARNING:tensorflow:Value in checkpoint could not be found in the restored object: (root).optimizer._variables.4\n",
            "WARNING:tensorflow:Value in checkpoint could not be found in the restored object: (root).optimizer._variables.5\n",
            "WARNING:tensorflow:Value in checkpoint could not be found in the restored object: (root).optimizer._variables.6\n",
            "WARNING:tensorflow:Value in checkpoint could not be found in the restored object: (root).optimizer._variables.7\n",
            "WARNING:tensorflow:Value in checkpoint could not be found in the restored object: (root).optimizer._variables.8\n",
            "WARNING:absl:Found untraced functions such as _update_step_xla while saving (showing 1 of 1). These functions will not be directly callable after loading.\n"
          ]
        }
      ]
    },
    {
      "cell_type": "code",
      "source": [
        "# 저장된 모델로부터 새로운 케라스 모델을 로드한다.\n",
        "\n",
        "new_model = tf.keras.models.load_model('./saved_model/my_model')\n",
        "new_model.summary()"
      ],
      "metadata": {
        "colab": {
          "base_uri": "https://localhost:8080/"
        },
        "id": "1ntmtPLQ5hY0",
        "outputId": "f5d9c6fe-abc2-4dfb-b547-9d1da8dce84b"
      },
      "execution_count": null,
      "outputs": [
        {
          "output_type": "stream",
          "name": "stdout",
          "text": [
            "Model: \"sequential_10\"\n",
            "_________________________________________________________________\n",
            " Layer (type)                Output Shape              Param #   \n",
            "=================================================================\n",
            " dense_36 (Dense)            (None, 512)               401920    \n",
            "                                                                 \n",
            " dropout_9 (Dropout)         (None, 512)               0         \n",
            "                                                                 \n",
            " dense_37 (Dense)            (None, 10)                5130      \n",
            "                                                                 \n",
            "=================================================================\n",
            "Total params: 407,050\n",
            "Trainable params: 407,050\n",
            "Non-trainable params: 0\n",
            "_________________________________________________________________\n"
          ]
        }
      ]
    },
    {
      "cell_type": "code",
      "source": [
        "loss, acc = new_model.evaluate(test_images, test_labels, verbose=2)\n",
        "print('SavedModel 포맷을 이용해 로드한 모델의 정확도: {:5.2f}%'.format(100*acc))\n",
        "\n",
        "print(new_model.predict(test_images).shape)"
      ],
      "metadata": {
        "colab": {
          "base_uri": "https://localhost:8080/"
        },
        "id": "VePxknzi55CN",
        "outputId": "eb03dd38-54cc-441a-bd57-efd4a90c6868"
      },
      "execution_count": null,
      "outputs": [
        {
          "output_type": "stream",
          "name": "stdout",
          "text": [
            "32/32 - 0s - loss: 0.4313 - sparse_categorical_accuracy: 0.8600 - 83ms/epoch - 3ms/step\n",
            "SavedModel 포맷을 이용해 로드한 모델의 정확도: 86.00%\n",
            "32/32 [==============================] - 0s 2ms/step\n",
            "(1000, 10)\n"
          ]
        }
      ]
    },
    {
      "cell_type": "markdown",
      "source": [
        "### HDF5 파일로 저장하기"
      ],
      "metadata": {
        "id": "aqPnXs7J6SK0"
      }
    },
    {
      "cell_type": "code",
      "source": [
        "model = create_model()\n",
        "model.fit(train_images, train_labels, epochs=5)\n",
        "\n",
        "# '.h5' 확장자는 모델이 HDF5 형식으로 저장됨을 가리킨다.\n",
        "model.save('./my_model.h5')"
      ],
      "metadata": {
        "colab": {
          "base_uri": "https://localhost:8080/"
        },
        "id": "ZJGiIv9D6T4p",
        "outputId": "768d5423-a38c-4098-e154-cdbc658da7c6"
      },
      "execution_count": null,
      "outputs": [
        {
          "output_type": "stream",
          "name": "stdout",
          "text": [
            "Epoch 1/5\n",
            "32/32 [==============================] - 1s 7ms/step - loss: 1.1756 - sparse_categorical_accuracy: 0.6630\n",
            "Epoch 2/5\n",
            "32/32 [==============================] - 0s 8ms/step - loss: 0.4325 - sparse_categorical_accuracy: 0.8820\n",
            "Epoch 3/5\n",
            "32/32 [==============================] - 0s 7ms/step - loss: 0.2883 - sparse_categorical_accuracy: 0.9280\n",
            "Epoch 4/5\n",
            "32/32 [==============================] - 0s 8ms/step - loss: 0.2232 - sparse_categorical_accuracy: 0.9420\n",
            "Epoch 5/5\n",
            "32/32 [==============================] - 0s 7ms/step - loss: 0.1667 - sparse_categorical_accuracy: 0.9600\n"
          ]
        }
      ]
    },
    {
      "cell_type": "code",
      "source": [
        "new_model = tf.keras.models.load_model('./my_model.h5')\n",
        "\n",
        "new_model.summary()\n",
        "loss, acc = new_model.evaluate(test_images, test_labels, verbose=2)\n",
        "print('Restored model, accuracy: {:5.2f}%'.format(100*acc))"
      ],
      "metadata": {
        "colab": {
          "base_uri": "https://localhost:8080/"
        },
        "id": "qYQA-j7p6y_c",
        "outputId": "9ee020be-f94f-4375-a8ca-756764e0522e"
      },
      "execution_count": null,
      "outputs": [
        {
          "output_type": "stream",
          "name": "stdout",
          "text": [
            "Model: \"sequential_11\"\n",
            "_________________________________________________________________\n",
            " Layer (type)                Output Shape              Param #   \n",
            "=================================================================\n",
            " dense_38 (Dense)            (None, 512)               401920    \n",
            "                                                                 \n",
            " dropout_10 (Dropout)        (None, 512)               0         \n",
            "                                                                 \n",
            " dense_39 (Dense)            (None, 10)                5130      \n",
            "                                                                 \n",
            "=================================================================\n",
            "Total params: 407,050\n",
            "Trainable params: 407,050\n",
            "Non-trainable params: 0\n",
            "_________________________________________________________________\n",
            "32/32 - 1s - loss: 0.4307 - sparse_categorical_accuracy: 0.8620 - 596ms/epoch - 19ms/step\n",
            "Restored model, accuracy: 86.20%\n"
          ]
        }
      ]
    },
    {
      "cell_type": "markdown",
      "source": [
        "# -"
      ],
      "metadata": {
        "id": "DM816Bol7Jst"
      }
    }
  ]
}